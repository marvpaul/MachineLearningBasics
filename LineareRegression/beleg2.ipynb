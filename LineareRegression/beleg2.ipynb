{
 "cells": [
  {
   "cell_type": "code",
   "execution_count": 2,
   "metadata": {
    "collapsed": true
   },
   "outputs": [],
   "source": [
    "import matplotlib.pyplot as plt\n",
    "from matplotlib import cm\n",
    "from mpl_toolkits.mplot3d import Axes3D"
   ]
  },
  {
   "cell_type": "code",
   "execution_count": 3,
   "metadata": {},
   "outputs": [],
   "source": [
    "# 1) Erstellen Sie zuerst zum Testen Ihrer Lösung künstliche Datenwerte für\n",
    "# zwei Merkmale (Features):\n",
    "# X soll dabei eine Datenmatrix mit zwei Spalten sein, wobei die Werte zufällig aus\n",
    "# einer Gleichverteilung (konstante Wahrscheinlichkeitsdichte in einem Intervall) gezogen werden.\n",
    "import numpy as np\n",
    "class DataPointGenerator:\n",
    "    '''\n",
    "    Data generator which computes new random data points for 2 features\n",
    "    '''\n",
    "    features = None\n",
    "    def __init__(self, amount_of_points) -> None:\n",
    "        super().__init__()\n",
    "        x1 = np.random.uniform(0, 50, amount_of_points)*100\n",
    "        x2 = np.random.uniform(0, 50, amount_of_points)\n",
    "        self.features =  np.concatenate([x1.reshape((-1,1)), x2.reshape((-1, 1))],\n",
    "                                        axis=1)\n",
    "\n",
    "generator = DataPointGenerator(100)\n",
    "x = generator.features"
   ]
  },
  {
   "cell_type": "code",
   "execution_count": 4,
   "metadata": {},
   "outputs": [
    {
     "name": "stdout",
     "output_type": "stream",
     "text": [
      "[ 2.4  2.4]\n"
     ]
    }
   ],
   "source": [
    "# 2) Implementieren Sie die Hypothese (lineares Modell) als Python Funktion:\n",
    "# linear_hypothesis(theta)\n",
    "#\n",
    "# Die Pythonfunktion soll dabei eine Funktion zurückgeben:\n",
    "# >> theta = np.array([1.1, 2.0, -.9])\n",
    "# >> h = linear_hypothesis(theta)\n",
    "# >> print h(X)\n",
    "# array([ -0.99896965, 20.71147926, ....\n",
    "\n",
    "def linear_hypothesis(theta):\n",
    "    def h(x):\n",
    "        #Add row with ones\n",
    "        x_temp = np.concatenate((np.ones((x.shape[0], 1)), x), axis=1)\n",
    "        return x_temp.dot(theta)\n",
    "    return h\n",
    "\n",
    "theta = np.array([1.1, 2.0, -.9])\n",
    "h = linear_hypothesis(theta)\n",
    "print(h(np.array(([2, 3], [2, 3]))))"
   ]
  },
  {
   "cell_type": "code",
   "execution_count": 44,
   "metadata": {},
   "outputs": [
    {
     "data": {
      "text/plain": [
       "<IPython.core.display.Javascript object>"
      ]
     },
     "execution_count": 0,
     "metadata": {},
     "output_type": "execute_result"
    },
    {
     "data": {
      "text/html": [
       "<div id='6e4cb106-8233-4e2c-b4fd-fb9aef7f4adf'></div>"
      ],
      "text/plain": [
       "<div id='6e4cb106-8233-4e2c-b4fd-fb9aef7f4adf'></div>"
      ]
     },
     "execution_count": 0,
     "metadata": {},
     "output_type": "execute_result"
    }
   ],
   "source": [
    "# 3)\n",
    "# a) Nutzen Sie die Funktion linear_hypothesis(theta) zum Generieren\n",
    "# künstlicher y-Werte (Zielwerte) für Ihre Merkmalsvektoren (Zeilen von X).\n",
    "# Addieren Sie zusätzich ein gaussches Rauschen auf die einzelnen y-Werte.\n",
    "\n",
    "# b) Stellen Sie die X1-X2-Y Werte in einem 3D Plot dar.\n",
    "# siehe: http://matplotlib.org/mpl_toolkits/mplot3d/tutorial.html\n",
    "\n",
    "# c) Implementieren Sie das Feature Scaling um neue x' Werte zu berechnen\n",
    "\n",
    "#Genrate y values with gaussian noise\n",
    "y = np.random.normal(h(x), 4)\n",
    "\n",
    "#Plot\n",
    "fig = plt.figure()\n",
    "ax = fig.add_subplot(111, projection='3d')\n",
    "ax.scatter(xs=x[:, 0], ys=x[:, 1], zs=y)\n",
    "plt.show()\n",
    "\n",
    "#Feature scaling\n",
    "def scalingFeature(feature):\n",
    "    '''\n",
    "    Scaling a given features to -1 to 1\n",
    "    :param feature: given features\n",
    "    :return: scaled features\n",
    "    '''\n",
    "    u = np.sum(feature) / feature.size\n",
    "    std = np.sqrt(np.abs(np.square(u) - np.square(feature)))\n",
    "    return (feature - u) / std\n",
    "print(x)\n",
    "x[:, 0] = scalingFeature(x[:, 0])\n",
    "x[:, 1] = scalingFeature(x[:, 1])\n",
    "x_ = x"
   ]
  },
  {
   "cell_type": "code",
   "execution_count": 40,
   "metadata": {},
   "outputs": [
    {
     "name": "stdout",
     "output_type": "stream",
     "text": [
      "18805719.1301\n"
     ]
    }
   ],
   "source": [
    "# 4) Implementieren Sie die Kostenfunktion J als Python Funktion:\n",
    "# cost_function(x, y)\n",
    "# Die Pythonfunktion soll dabei eine Funktion zurückgeben, die\n",
    "# die denParametervektor theta aufnimmt.\n",
    "#\n",
    "\n",
    "def cost_function(x, y):\n",
    "    '''\n",
    "    Cost function for multivariate linear function\n",
    "    :param x: features\n",
    "    :param y: y values for given features\n",
    "    :return: costs of the certain values in relation to given theta values\n",
    "    '''\n",
    "    def costs(theta):\n",
    "        curr_hypothesis = linear_hypothesis(theta)\n",
    "        return 1 / (2*x.shape[0]) * np.sum(np.square(curr_hypothesis(x) - y))\n",
    "    return costs\n",
    "\n",
    "print(cost_function(x, y)(theta))"
   ]
  },
  {
   "cell_type": "code",
   "execution_count": 43,
   "metadata": {},
   "outputs": [
    {
     "data": {
      "text/plain": [
       "<IPython.core.display.Javascript object>"
      ]
     },
     "execution_count": 0,
     "metadata": {},
     "output_type": "execute_result"
    },
    {
     "data": {
      "text/html": [
       "<div id='702358c2-30de-4014-a8eb-093cc72737be'></div>"
      ],
      "text/plain": [
       "<div id='702358c2-30de-4014-a8eb-093cc72737be'></div>"
      ]
     },
     "execution_count": 0,
     "metadata": {},
     "output_type": "execute_result"
    },
    {
     "name": "stdout",
     "output_type": "stream",
     "text": [
      "New computed theta values for scaled x values:  [ 5717.5506873   4807.18641934    12.59228054]\n"
     ]
    },
    {
     "data": {
      "text/plain": [
       "<IPython.core.display.Javascript object>"
      ]
     },
     "execution_count": 0,
     "metadata": {},
     "output_type": "execute_result"
    },
    {
     "data": {
      "text/html": [
       "<div id='cfcbb74d-0060-4b32-b276-84f973cd3d91'></div>"
      ],
      "text/plain": [
       "<div id='cfcbb74d-0060-4b32-b276-84f973cd3d91'></div>"
      ]
     },
     "execution_count": 0,
     "metadata": {},
     "output_type": "execute_result"
    }
   ],
   "source": [
    "# 5) Implementieren Sie das Gradientenabstiegsverfahren unter Benutzung der Kostenfunktion und der linearen Hypothese.\n",
    "# 5a) Schreiben Sie eine Funktion die die Update Rules anwendet zur Berechnung der neuen theta-Werte:\n",
    "# theta = compute_new_theta(x, y, theta, alpha)\n",
    "#\n",
    "# 5b) Wählen Sie Startwerte in der Umgebung des Miniums der Kostenfunktion für theta.\n",
    "# Wenden Sie iterativ die compute_new_theta Funktion an und finden Sie so ein Theta mit niedrigen Kosten.\n",
    "# Kapseln Sie dies in eine Funktion:\n",
    "# gradient_descent(alpha, theta, nb_iterations, X, y)\n",
    "\n",
    "# 5c) Plotten Sie den Fortschritt (Verringerung der Kosten über den Iterationen) für 5b\n",
    "\n",
    "# 6) Stellen Sie die gefundene Hyperebene in einem 3D Plot zusammen mit den Daten dar\n",
    "\n",
    "def compute_new_theta(x, y, theta, alpha):\n",
    "    '''\n",
    "    Compute new theta values for multivariate linear regression with gradient descent\n",
    "    :param x: features\n",
    "    :param y: y values for given feature values\n",
    "    :param theta: array with theta values\n",
    "    :param alpha: learning rate\n",
    "    :return:\n",
    "    '''\n",
    "    hypothesis = linear_hypothesis(theta)\n",
    "    x_temp = np.concatenate((np.ones((x.shape[0], 1)), x), axis=1)\n",
    "    return theta - alpha * (1.0 / x_temp.shape[0]) * x_temp.T.dot(hypothesis(x) - y)\n",
    "\n",
    "def plot_costs(nb_iterations, costs):\n",
    "    '''\n",
    "    Simply plot some given costs in relation to iteration\n",
    "    :param nb_iterations: number of iterations\n",
    "    :param costs: costs for each iteration\n",
    "    '''\n",
    "    plt.plot(np.arange(0, nb_iterations, 1), costs)\n",
    "    plt.show()\n",
    "\n",
    "def gradient_descent(alpha, theta, nb_iterations, x, y):\n",
    "    '''\n",
    "    Gradient descent for multivariate linear regression\n",
    "    :param alpha: learning rate\n",
    "    :param theta: array with theta values\n",
    "    :param nb_iterations: number of iterations the gradient descent should do\n",
    "    :param x: features\n",
    "    :param y: y values\n",
    "    :return: new computed theta values\n",
    "    '''\n",
    "    n_theta = theta\n",
    "    costs = []\n",
    "    for i in range(nb_iterations):\n",
    "        n_theta = compute_new_theta(x, y, n_theta, alpha)\n",
    "        costs.append(cost_function(x, y)(n_theta))\n",
    "    plot_costs(nb_iterations, costs)\n",
    "    return n_theta\n",
    "\n",
    "#Learning rate 1%\n",
    "#Iterations: 10.000\n",
    "alpha = 0.01\n",
    "theta_new = gradient_descent(alpha, np.array((2, 4, 10)), 1000, x, y)\n",
    "print(\"New computed theta values for scaled x values: \", theta_new)\n",
    "\n",
    "\n",
    "#See this for reference --> https://matplotlib.org/examples/mplot3d/surface3d_demo.html\n",
    "# plot the surface\n",
    "x1 = np.arange(-1, 2, 1)\n",
    "x2 = np.arange(-1, 2, 1)\n",
    "x1, x2 = np.meshgrid(x1, x2)\n",
    "y_computed = theta_new[0] + theta_new[1] * x1 + theta_new[2] * x2\n",
    "fig = plt.figure()\n",
    "ax = fig.gca(projection='3d')\n",
    "# Plot the surface.\n",
    "surf = ax.plot_surface(x1, x2, y_computed, cmap=cm.coolwarm,\n",
    "                       linewidth=0, antialiased=False)\n",
    "# Add a color bar which maps values to colors.\n",
    "fig.colorbar(surf, shrink=0.5, aspect=5)\n",
    "\n",
    "#ax.scatter(x[:, 0], x[:, 1], y, color='green')\n",
    "ax.scatter(xs=x_[:, 0], ys=x_[:, 1], zs=y)\n",
    "plt.show()"
   ]
  },
  {
   "cell_type": "code",
   "execution_count": null,
   "metadata": {},
   "outputs": [],
   "source": []
  }
 ],
 "metadata": {
  "kernelspec": {
   "display_name": "Python 2",
   "language": "python",
   "name": "python2"
  },
  "language_info": {
   "codemirror_mode": {
    "name": "ipython",
    "version": 2
   },
   "file_extension": ".py",
   "mimetype": "text/x-python",
   "name": "python",
   "nbconvert_exporter": "python",
   "pygments_lexer": "ipython2",
   "version": "2.7.6"
  }
 },
 "nbformat": 4,
 "nbformat_minor": 0
}
